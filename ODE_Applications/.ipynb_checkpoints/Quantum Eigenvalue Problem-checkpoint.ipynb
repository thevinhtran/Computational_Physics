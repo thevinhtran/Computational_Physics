{
 "cells": [
  {
   "cell_type": "markdown",
   "id": "15e0b525",
   "metadata": {},
   "source": [
    "# Quantum Eigenvalue Problem\n",
    "\n",
    "Suppose we're interested in solving a single body time-indepdent Schrodinger equation. This then is equivalent to solving\n",
    "$$\n",
    "    \\hat{H}\\psi = - \\frac{\\hbar^2}{2m}\\nabla^2\\psi + V(\\vec{r})\\psi = E\\psi \n",
    "$$\n",
    "for some potential $V(\\vec{r})$. In most cases we cannot solve this exactly and have to resort to numerical methods. In one dimension $\\nabla \\rightarrow d/dx$ so this becomes and ODE but with an additional constraint of a boundary condition. The most general boundary condition is that the wavefunction vanishes at infinity\n",
    "$$\n",
    "    \\psi(x) = \\begin{cases}\n",
    "    e^{-kx} \\qquad x \\rightarrow \\infty\\\\\n",
    "    e^{kx} \\qquad x \\rightarrow -\\infty \n",
    "    \\end{cases}\n",
    "$$\n",
    "\n",
    "The presence of the boundary condition enforces discrete solutions for $k$ or equivalently $E$ which turns this into an eigenvalue problem. "
   ]
  },
  {
   "cell_type": "markdown",
   "id": "f8a26bb8",
   "metadata": {},
   "source": [
    "## Nucleon in a Box\n",
    "Finite square well\n",
    "$$\n",
    "    V(x) = \n",
    "    \\begin{cases}\n",
    "        -V_0 = - 83\\,\\text{MeV} &|x|\\leq a = 2\\,\\text{fm}\\\\\n",
    "        0   &|x|> a = 2\\,\\text{fm}\n",
    "    \\end{cases}\n",
    "$$"
   ]
  },
  {
   "cell_type": "code",
   "execution_count": null,
   "id": "b5117f13",
   "metadata": {},
   "outputs": [],
   "source": []
  }
 ],
 "metadata": {
  "kernelspec": {
   "display_name": "Python 3 (ipykernel)",
   "language": "python",
   "name": "python3"
  },
  "language_info": {
   "codemirror_mode": {
    "name": "ipython",
    "version": 3
   },
   "file_extension": ".py",
   "mimetype": "text/x-python",
   "name": "python",
   "nbconvert_exporter": "python",
   "pygments_lexer": "ipython3",
   "version": "3.9.7"
  }
 },
 "nbformat": 4,
 "nbformat_minor": 5
}
